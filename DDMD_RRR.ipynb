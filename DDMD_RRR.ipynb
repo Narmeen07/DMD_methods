{
  "nbformat": 4,
  "nbformat_minor": 0,
  "metadata": {
    "colab": {
      "provenance": []
    },
    "kernelspec": {
      "name": "python3",
      "display_name": "Python 3"
    },
    "language_info": {
      "name": "python"
    }
  },
  "cells": [
    {
      "cell_type": "code",
      "source": [
        "import numpy as np"
      ],
      "metadata": {
        "id": "MH9J3zo27BS5"
      },
      "execution_count": 1,
      "outputs": []
    },
    {
      "cell_type": "markdown",
      "source": [
        "Some Helper Methods"
      ],
      "metadata": {
        "id": "aNJFa9OE7GJS"
      }
    },
    {
      "cell_type": "code",
      "source": [
        "def calculate_minimal_singular_value(R, k, lambda_i):\n",
        "    # Extract submatrices from R for singular value decomposition\n",
        "    A = R[:k, :-k]\n",
        "    B = R[:k, :k]\n",
        "    C = R[:-k, :-k]\n",
        "\n",
        "    concatenated_R = np.concatenate((A - lambda_i * B, C), axis=0)\n",
        "    _, singular_values, right_singular_vectors = np.linalg.svd(A - lambda_i * B, full_matrices=False)\n",
        "\n",
        "    # Find the index of the minimal singular value\n",
        "    min_singular_value_index = np.argmin(singular_values)\n",
        "\n",
        "    # Extract the minimal singular value and the corresponding right singular vector\n",
        "    sigma_lambda_i = singular_values[min_singular_value_index]\n",
        "    w_lambda_i = right_singular_vectors[min_singular_value_index]\n",
        "\n",
        "    return sigma_lambda_i, w_lambda_i"
      ],
      "metadata": {
        "id": "J7CCy1reuvA7"
      },
      "execution_count": 2,
      "outputs": []
    },
    {
      "cell_type": "markdown",
      "source": [
        "Implementation of the Schmid_DMD_method"
      ],
      "metadata": {
        "id": "5YGuyPIs7LMN"
      }
    },
    {
      "cell_type": "code",
      "execution_count": 3,
      "metadata": {
        "id": "JoW_LSS_WcIz"
      },
      "outputs": [],
      "source": [
        "def schmid_DMD_method(Xm, Ym):\n",
        "    # Step 2: Thin SVD\n",
        "    U, Sigma, Vh = np.linalg.svd(Xm, full_matrices=False)\n",
        "\n",
        "    # Step 3: Determine numerical rank k\n",
        "    k = np.sum(Sigma > np.finfo(float).eps * max(Xm.shape))\n",
        "\n",
        "    # Step 4: Truncate SVD\n",
        "    Uk = U[:, :k]\n",
        "    Vk = Vh[:, :k]\n",
        "    Sigma_k = np.diag(Sigma[:k])\n",
        "\n",
        "    # Step 5: Compute Schmid's Rayleigh Quotient\n",
        "    Sk = Uk.conj().T @ Ym @ Vk @ np.linalg.inv(Sigma_k)\n",
        "\n",
        "    # Step 6: Compute Eigenpairs of Sk\n",
        "    Lambda_k, Wk = np.linalg.eig(Sk)\n",
        "\n",
        "    # Step 7: Output Ritz vectors Zk and eigenvalues Λk\n",
        "    Zk = Uk @ Wk\n",
        "\n",
        "    return Zk, np.diag(Lambda_k)\n"
      ]
    },
    {
      "cell_type": "markdown",
      "source": [
        "Example Usage of the Method:"
      ],
      "metadata": {
        "id": "irh1m67d7XS7"
      }
    },
    {
      "cell_type": "code",
      "source": [
        "# Test method:\n",
        "# Replace Xm and Ym with your data\n",
        "m_size = 5\n",
        "n_size = 3\n",
        "Xm = np.random.rand(m_size, n_size)  # Replace with actual dimensions\n",
        "Ym = np.random.rand(m_size,n_size)  # Replace with actual dimensions\n",
        "\n",
        "Zk, Lambda_k = schmid_DMD_method(Xm, Ym)\n",
        "\n",
        "print(\"Ritz Vectors (Zk):\")\n",
        "print(Zk)\n",
        "\n",
        "print(\"\\nEigenvalues (Lambda_k):\")\n",
        "print(Lambda_k)"
      ],
      "metadata": {
        "colab": {
          "base_uri": "https://localhost:8080/"
        },
        "id": "uxWY3_qD7bCY",
        "outputId": "a83416c8-34f0-4c72-fe7a-f375a5d0bf3a"
      },
      "execution_count": 4,
      "outputs": [
        {
          "output_type": "stream",
          "name": "stdout",
          "text": [
            "Ritz Vectors (Zk):\n",
            "[[ 0.59932444+0.j         -0.41707879+0.1343754j  -0.41707879-0.1343754j ]\n",
            " [ 0.36969322+0.j         -0.43116111-0.20414205j -0.43116111+0.20414205j]\n",
            " [ 0.2304969 +0.j         -0.18657942+0.01554609j -0.18657942-0.01554609j]\n",
            " [ 0.32737444+0.j         -0.50575955-0.06572199j -0.50575955+0.06572199j]\n",
            " [ 0.58637385+0.j         -0.53327635+0.02941645j -0.53327635-0.02941645j]]\n",
            "\n",
            "Eigenvalues (Lambda_k):\n",
            "[[-0.31827169+0.j          0.        +0.j          0.        +0.j        ]\n",
            " [ 0.        +0.j          0.82053153+0.69764311j  0.        +0.j        ]\n",
            " [ 0.        +0.j          0.        +0.j          0.82053153-0.69764311j]]\n"
          ]
        }
      ]
    },
    {
      "cell_type": "markdown",
      "source": [
        "DDMD_RRR algorithm"
      ],
      "metadata": {
        "id": "oiGbLhFU7m_h"
      }
    },
    {
      "cell_type": "code",
      "source": [
        "def ddmd_rrr(Xm, Ym, epsilon):\n",
        "    # Step 2: Initialize Matrices\n",
        "    Dx = np.diag(np.linalg.norm(Xm, axis=0)**2)\n",
        "    X1m = Xm @ np.linalg.pinv(Dx)\n",
        "    Y1m = Ym @ np.linalg.pinv(Dx)\n",
        "\n",
        "    # Step 3: Thin SVD\n",
        "    U, Sigma, Vh = np.linalg.svd(X1m, full_matrices=False)\n",
        "\n",
        "\n",
        "    # Step 4: Determine Numerical Rank\n",
        "    k = np.sum(Sigma > epsilon)\n",
        "\n",
        "\n",
        "    # Step 5: Truncate SVD\n",
        "    Uk = U[:, :k]\n",
        "    Vk = Vh[:, :k]\n",
        "    Sigma_k = np.diag(Sigma[:k])\n",
        "\n",
        "    # Step 6: Data Driven Formula\n",
        "    Bk = Y1m @ Vk @ np.linalg.inv(Sigma_k)\n",
        "\n",
        "    # Step 7: Thin QR Factorization\n",
        "    Q, R = np.linalg.qr(np.hstack((Uk, Bk)))\n",
        "\n",
        "\n",
        "    diagonal_entries = np.diagonal(R)[:k]\n",
        "\n",
        "    # Calculate the conjugate of each entry and store in a list\n",
        "    diagonal_conjugates = [np.conjugate(entry) for entry in diagonal_entries]\n",
        "    Sk = np.diag(diagonal_conjugates) @ R[:k, -k:]\n",
        "\n",
        "\n",
        "    # Step 9: Compute Eigenvalues\n",
        "    Lambda_k = np.linalg.eigvals(Sk)\n",
        "\n",
        "\n",
        "    # Steps 10-13: Singular Value Decomposition Minimization, Construct Refined Ritz Vectors,\n",
        "    # Optimal Residual, and Rayleigh Quotient\n",
        "    Wk = np.zeros((k, k), dtype=complex)\n",
        "    rk = np.zeros(k)\n",
        "    rho_k = np.zeros(k, dtype=complex)\n",
        "\n",
        "    for i in range(k):\n",
        "        submatrix = R[:k, k + i:2 * k]\n",
        "        lambda_i = Lambda_k[i]\n",
        "        sigma_min_i, w_lambda_i = calculate_minimal_singular_value(R, k, lambda_i)\n",
        "        Wk[:, i]  = w_lambda_i\n",
        "        rk[i] = sigma_min_i\n",
        "        rho_k[i] = np.vdot(Wk[:, i], Sk @ Wk[:, i])\n",
        "\n",
        "    # Step 15: Output\n",
        "    Zk = Uk @ Wk\n",
        "\n",
        "    return Zk, Lambda_k, rk, rho_k\n",
        "\n",
        "\n"
      ],
      "metadata": {
        "id": "iW5WikjuZfpt"
      },
      "execution_count": 5,
      "outputs": []
    },
    {
      "cell_type": "markdown",
      "source": [
        "Example Usage of the method"
      ],
      "metadata": {
        "id": "Zr5uDjQJ7xYx"
      }
    },
    {
      "cell_type": "code",
      "source": [
        "# Replace Xm and Ym with your data, and adjust epsilon accordingly\n",
        "Xm = np.random.rand(1000, 99)  # Replace with actual dimensions\n",
        "Ym = np.random.rand(1000, 99)  # Replace with actual dimensions\n",
        "epsilon = 1e-6  # Replace with the desired tolerance level\n",
        "\n",
        "Zk, Lambda_k, rk, rho_k = ddmd_rrr(Xm, Ym, epsilon)\n",
        "\n",
        "print(\"Refined Ritz Vectors (Zk):\")\n",
        "print(Zk)\n",
        "\n",
        "print(\"\\nEigenvalues (Lambda_k):\")\n",
        "print(Lambda_k)\n",
        "\n",
        "print(\"\\nOptimal Residuals (rk):\")\n",
        "print(rk)\n",
        "\n",
        "print(\"\\nRayleigh Quotients (rho_k):\")\n",
        "print(rho_k)"
      ],
      "metadata": {
        "colab": {
          "base_uri": "https://localhost:8080/"
        },
        "id": "IUj2PdDZ7hYg",
        "outputId": "a0e17132-17f2-4200-fa93-e4b08d466af2"
      },
      "execution_count": 6,
      "outputs": [
        {
          "output_type": "stream",
          "name": "stdout",
          "text": [
            "Refined Ritz Vectors (Zk):\n",
            "[[-0.01099704+0.01082044j -0.01099704-0.01082044j -0.00990098+0.00090338j\n",
            "  ... -0.00628596+0.00470483j -0.00628596-0.00470483j\n",
            "   0.01171285+0.j        ]\n",
            " [ 0.01494247-0.03403957j  0.01494247+0.03403957j -0.04129495+0.00051441j\n",
            "  ...  0.00278927+0.01981933j  0.00278927-0.01981933j\n",
            "   0.01264765+0.j        ]\n",
            " [ 0.04126345+0.00992887j  0.04126345-0.00992887j -0.0144334 +0.00627293j\n",
            "  ... -0.01569664-0.00152849j -0.01569664+0.00152849j\n",
            "   0.01086691+0.j        ]\n",
            " ...\n",
            " [ 0.03418953-0.02010902j  0.03418953+0.02010902j  0.00249284-0.01689755j\n",
            "  ...  0.00279525+0.00834174j  0.00279525-0.00834174j\n",
            "   0.0074564 +0.j        ]\n",
            " [ 0.00330555+0.02033034j  0.00330555-0.02033034j -0.00077513+0.02623578j\n",
            "  ...  0.00758616+0.05267538j  0.00758616-0.05267538j\n",
            "  -0.05745268+0.j        ]\n",
            " [-0.05068783-0.00316005j -0.05068783+0.00316005j  0.01131449+0.01078395j\n",
            "  ... -0.01180927-0.00592299j -0.01180927+0.00592299j\n",
            "   0.00450135+0.j        ]]\n",
            "\n",
            "Eigenvalues (Lambda_k):\n",
            "[ 0.24626603+0.25517915j  0.24626603-0.25517915j -0.23009852+0.22885146j\n",
            " -0.23009852-0.22885146j -0.31211976+0.01332457j -0.31211976-0.01332457j\n",
            " -0.29391363+0.11230134j -0.29391363-0.11230134j  0.30354199+0.06571686j\n",
            "  0.30354199-0.06571686j -0.27003337+0.13013749j -0.27003337-0.13013749j\n",
            "  0.07345582+0.28827775j  0.07345582-0.28827775j  0.14114514+0.25832571j\n",
            "  0.14114514-0.25832571j  0.2839633 +0.01947139j  0.2839633 -0.01947139j\n",
            " -0.23444906+0.18127781j -0.23444906-0.18127781j -0.06660896+0.29058191j\n",
            " -0.06660896-0.29058191j -0.03170238+0.29420664j -0.03170238-0.29420664j\n",
            "  0.20249761+0.19342531j  0.20249761-0.19342531j  0.24284412+0.1367052j\n",
            "  0.24284412-0.1367052j   0.25124638+0.10818196j  0.25124638-0.10818196j\n",
            "  0.03057631+0.27031837j  0.03057631-0.27031837j -0.17761627+0.21234164j\n",
            " -0.17761627-0.21234164j -0.03332725+0.26965866j -0.03332725-0.26965866j\n",
            "  0.18946537+0.16616649j  0.18946537-0.16616649j  0.23086631+0.07290094j\n",
            "  0.23086631-0.07290094j -0.12644656+0.22696201j -0.12644656-0.22696201j\n",
            "  0.09712953+0.21275409j  0.09712953-0.21275409j  0.13948752+0.17978123j\n",
            "  0.13948752-0.17978123j -0.07781454+0.22508233j -0.07781454-0.22508233j\n",
            " -0.2422819 +0.06671895j -0.2422819 -0.06671895j  0.0315973 +0.22570955j\n",
            "  0.0315973 -0.22570955j  0.17622385+0.10948198j  0.17622385-0.10948198j\n",
            " -0.22387785+0.06539168j -0.22387785-0.06539168j -0.01891926+0.2117107j\n",
            " -0.01891926-0.2117107j  -0.13496128+0.15666227j -0.13496128-0.15666227j\n",
            " -0.17692344+0.10896324j -0.17692344-0.10896324j  0.15699907+0.0494309j\n",
            "  0.15699907-0.0494309j  -0.20706176+0.j         -0.11651251+0.14526936j\n",
            " -0.11651251-0.14526936j  0.14942466+0.j          0.07291031+0.14497516j\n",
            "  0.07291031-0.14497516j  0.05473929+0.14980716j  0.05473929-0.14980716j\n",
            "  0.03418441+0.15692303j  0.03418441-0.15692303j -0.17355128+0.04924956j\n",
            " -0.17355128-0.04924956j -0.05639431+0.15042137j -0.05639431-0.15042137j\n",
            " -0.00396071+0.1428923j  -0.00396071-0.1428923j   0.11431798+0.03832235j\n",
            "  0.11431798-0.03832235j -0.12299165+0.j         -0.12284737+0.04173143j\n",
            " -0.12284737-0.04173143j -0.0977809 +0.07293622j -0.0977809 -0.07293622j\n",
            "  0.06226669+0.06578444j  0.06226669-0.06578444j -0.10166834+0.05244153j\n",
            " -0.10166834-0.05244153j  0.07877618+0.j         -0.07162621+0.j\n",
            "  0.02415963+0.04454958j  0.02415963-0.04454958j  0.04603262+0.j\n",
            " -0.01875575+0.03452035j -0.01875575-0.03452035j -0.04117209+0.j        ]\n",
            "\n",
            "Optimal Residuals (rk):\n",
            "[0.79575831 0.79575831 1.25120556 1.25120556 1.31218741 1.31218741\n",
            " 1.29877792 1.29877792 0.69955162 0.69955162 1.27668341 1.27668341\n",
            " 0.97035467 0.97035467 0.89686334 0.89686334 0.7163014  0.7163014\n",
            " 1.24768831 1.24768831 1.10548293 1.10548293 1.07283146 1.07283146\n",
            " 0.82062379 0.82062379 0.76939804 0.76939804 0.75652846 0.75652846\n",
            " 1.00640663 1.00640663 1.19660731 1.19660731 1.06793305 1.06793305\n",
            " 0.8273921  0.8273921  0.77258085 0.77258085 1.14908381 1.14908381\n",
            " 0.92759872 0.92759872 0.87909215 0.87909215 1.10106596 1.10106596\n",
            " 1.24407224 1.24407224 0.99435838 0.99435838 0.83101952 0.83101952\n",
            " 1.22562354 1.22562354 1.04068145 1.04068145 1.14572255 1.14572255\n",
            " 1.18195676 1.18195676 0.84444892 0.84444892 1.20706176 1.12592335\n",
            " 1.12592335 0.85057534 0.93835659 0.93835659 0.95705799 0.95705799\n",
            " 0.97848075 0.97848075 1.17458423 1.17458423 1.06704992 1.06704992\n",
            " 1.01407855 1.01407855 0.88651071 0.88651071 1.12299165 1.12362259\n",
            " 1.12362259 1.10020116 1.10020116 0.94003795 0.94003795 1.1029158\n",
            " 1.1029158  0.92122382 1.07162621 0.97685674 0.97685674 0.95396738\n",
            " 1.01934044 1.01934044 1.04117209]\n",
            "\n",
            "Rayleigh Quotients (rho_k):\n",
            "[ 0.03893166-0.01106037j  0.03893166+0.01106037j  0.03694924+0.07375955j\n",
            "  0.03694924-0.07375955j  0.00921928+0.00261172j  0.00921928-0.00261172j\n",
            "  0.0191006 -0.01329173j  0.0191006 +0.01329173j  0.00492048-0.01221593j\n",
            "  0.00492048+0.01221593j -0.0026953 +0.00106767j -0.0026953 -0.00106767j\n",
            "  0.01783556-0.00360047j  0.01783556+0.00360047j -0.018561  +0.01587098j\n",
            " -0.018561  -0.01587098j  0.02218486+0.01358565j  0.02218486-0.01358565j\n",
            " -0.01988711-0.00973855j -0.01988711+0.00973855j -0.00854309+0.02453892j\n",
            " -0.00854309-0.02453892j -0.02810674-0.00571037j -0.02810674+0.00571037j\n",
            " -0.05390426+0.01062487j -0.05390426-0.01062487j  0.02307583+0.0209608j\n",
            "  0.02307583-0.0209608j   0.02237478+0.01941521j  0.02237478-0.01941521j\n",
            "  0.03601193+0.01597459j  0.03601193-0.01597459j  0.00641242+0.0056696j\n",
            "  0.00641242-0.0056696j  -0.00933084+0.00351304j -0.00933084-0.00351304j\n",
            "  0.02541021+0.02017699j  0.02541021-0.02017699j -0.0606967 -0.00056928j\n",
            " -0.0606967 +0.00056928j  0.02025806-0.02320216j  0.02025806+0.02320216j\n",
            "  0.01401072+0.01283714j  0.01401072-0.01283714j  0.01377901+0.00131858j\n",
            "  0.01377901-0.00131858j -0.01213636-0.04267844j -0.01213636+0.04267844j\n",
            " -0.00692745+0.00254199j -0.00692745-0.00254199j  0.00661058-0.03994611j\n",
            "  0.00661058+0.03994611j -0.01454324-0.02584456j -0.01454324+0.02584456j\n",
            " -0.01300317+0.02173437j -0.01300317-0.02173437j  0.00275485+0.00247431j\n",
            "  0.00275485-0.00247431j  0.0381366 +0.00704067j  0.0381366 -0.00704067j\n",
            "  0.03602176+0.01910872j  0.03602176-0.01910872j -0.02225601-0.02325844j\n",
            " -0.02225601+0.02325844j  0.01477298+0.j          0.02917827+0.03565044j\n",
            "  0.02917827-0.03565044j -0.05972495+0.j         -0.06086732+0.00298728j\n",
            " -0.06086732-0.00298728j  0.07088135+0.01024391j  0.07088135-0.01024391j\n",
            " -0.00666736-0.0136145j  -0.00666736+0.0136145j  -0.03641566-0.00065782j\n",
            " -0.03641566+0.00065782j -0.02052793+0.01380541j -0.02052793-0.01380541j\n",
            " -0.05734734+0.02508956j -0.05734734-0.02508956j -0.0035543 +0.00909413j\n",
            " -0.0035543 -0.00909413j -0.03550182+0.j         -0.05980002+0.02682347j\n",
            " -0.05980002-0.02682347j  0.03783838-0.00447919j  0.03783838+0.00447919j\n",
            " -0.01766092-0.01172825j -0.01766092+0.01172825j -0.07581511+0.00164445j\n",
            " -0.07581511-0.00164445j  0.00799118+0.j          0.01660224+0.j\n",
            " -0.00049738-0.00236451j -0.00049738+0.00236451j  0.05903103+0.j\n",
            " -0.01961764-0.02868826j -0.01961764+0.02868826j  0.03891151+0.j        ]\n"
          ]
        }
      ]
    }
  ]
}